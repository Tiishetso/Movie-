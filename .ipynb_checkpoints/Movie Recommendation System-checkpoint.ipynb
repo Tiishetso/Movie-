{
 "cells": [
  {
   "cell_type": "code",
   "execution_count": 11,
   "id": "c451cb2d-756e-4df9-bca2-3c1a0918ff16",
   "metadata": {},
   "outputs": [],
   "source": [
    "# Importing Libraries\n",
    "\n",
    "import numpy as np\n",
    "import pandas as pd\n",
    "import scipy as sp\n",
    "import matplotlib.pyplot as plt\n",
    "import seaborn as sns\n",
    "from sklearn.metrics.pairwise import cosine_similarity\n",
    "from sklearn.feature_extraction.text import TfidfVectorizer\n",
    "from sklearn.preprocessing import MinMaxScaler\n",
    "import warnings"
   ]
  },
  {
   "cell_type": "code",
   "execution_count": 13,
   "id": "bd5e6e19-202c-405b-aa73-400a14492146",
   "metadata": {},
   "outputs": [
    {
     "name": "stdout",
     "output_type": "stream",
     "text": [
      "Number of movies in dataset: 7668\n",
      "Missing values before handling:\n",
      " name           0\n",
      "rating        77\n",
      "genre          0\n",
      "year           0\n",
      "released       2\n",
      "score          3\n",
      "votes          3\n",
      "director       0\n",
      "writer         3\n",
      "star           1\n",
      "country        3\n",
      "budget      2171\n",
      "gross        189\n",
      "company       17\n",
      "runtime        4\n",
      "dtype: int64\n"
     ]
    }
   ],
   "source": [
    "# Load the dataset\n",
    "movies = pd.read_csv('movies.csv')\n",
    "\n",
    "# Display dataset info\n",
    "print(f'Number of movies in dataset: {movies.shape[0]}')\n",
    "print(\"Missing values before handling:\\n\", movies.isnull().sum())\n",
    "\n",
    "# Fill missing numerical values with mean or median\n",
    "movies['score'] = movies['score'].fillna(movies['score'].mean())\n",
    "movies['votes'] = movies['votes'].fillna(movies['votes'].mean())\n",
    "movies['runtime'] = movies['runtime'].fillna(movies['runtime'].mean())\n",
    "movies['budget'] = movies['budget'].fillna(movies['budget'].median())\n",
    "movies['gross'] = movies['gross'].fillna(movies['gross'].median())"
   ]
  },
  {
   "cell_type": "code",
   "execution_count": 15,
   "id": "4925ce1e-dd8a-4add-9092-3dee25902e1e",
   "metadata": {},
   "outputs": [
    {
     "name": "stdout",
     "output_type": "stream",
     "text": [
      "Missing values after handling:\n",
      " name        0\n",
      "rating      0\n",
      "genre       0\n",
      "year        0\n",
      "released    0\n",
      "score       0\n",
      "votes       0\n",
      "director    0\n",
      "writer      0\n",
      "star        0\n",
      "country     0\n",
      "budget      0\n",
      "gross       0\n",
      "company     0\n",
      "runtime     0\n",
      "dtype: int64\n"
     ]
    }
   ],
   "source": [
    "# Fill missing categorical values with 'Unknown'\n",
    "for col in ['rating', 'released', 'writer', 'star', 'country', 'company']:\n",
    "    movies[col] = movies[col].fillna('Unknown')\n",
    "\n",
    "\n",
    "# Verify missing values are handled\n",
    "print(\"Missing values after handling:\\n\", movies.isnull().sum())"
   ]
  },
  {
   "cell_type": "code",
   "execution_count": 17,
   "id": "297435fb-447b-4356-ba1b-f0a2c461149a",
   "metadata": {},
   "outputs": [],
   "source": [
    "# Create a combined text feature for content-based filtering\n",
    "movies['direct_gen'] = movies[['director', 'genre', 'star']].fillna('').astype(str).apply(lambda x: ' '.join(x), axis=1)\n",
    "\n",
    "# Creating an index mapping for movie titles\n",
    "titles = movies['name']\n",
    "indices = pd.Series(movies.index, index=movies['name']).drop_duplicates()"
   ]
  },
  {
   "cell_type": "code",
   "execution_count": 19,
   "id": "c4fc0012-2b17-4f02-8490-2e82494695dd",
   "metadata": {},
   "outputs": [],
   "source": [
    "# Computing content-based similarity using TF-IDF\n",
    "tf = TfidfVectorizer(analyzer='word', ngram_range=(1, 2), min_df=0.0, stop_words='english')\n",
    "tf_authTags_matrix = tf.fit_transform(movies['direct_gen'])\n",
    "cosine_sim_authTags = cosine_similarity(tf_authTags_matrix, tf_authTags_matrix)"
   ]
  },
  {
   "cell_type": "code",
   "execution_count": 21,
   "id": "6180ce4f-b94a-405d-9ad9-9ee9e082d53f",
   "metadata": {},
   "outputs": [
    {
     "name": "stdout",
     "output_type": "stream",
     "text": [
      "Content-based Similarity Matrix Shape: (7668, 7668)\n",
      "Collaborative Similarity Matrix Shape: (7668, 7668)\n"
     ]
    }
   ],
   "source": [
    "# Computing collaborative filtering similarity (user ratings)\n",
    "scaler = MinMaxScaler()\n",
    "movies[['score', 'votes']] = scaler.fit_transform(movies[['score', 'votes']])\n",
    "rating_sim = cosine_similarity(movies[['score', 'votes']], movies[['score', 'votes']])\n",
    "\n",
    "print(f\"Content-based Similarity Matrix Shape: {cosine_sim_authTags.shape}\")\n",
    "print(f\"Collaborative Similarity Matrix Shape: {rating_sim.shape}\")"
   ]
  },
  {
   "cell_type": "code",
   "execution_count": 23,
   "id": "88c828fe-527b-44c0-97f1-15645fb0af3e",
   "metadata": {},
   "outputs": [],
   "source": [
    "# Hybrid Recommendation System\n",
    "def hybrid_recommendation(movie_title, N=10, alpha=0.7):\n",
    "    if movie_title not in indices:\n",
    "        return f\"Movie '{movie_title}' not found in dataset.\"\n",
    "\n",
    "    # Getting the index of the movie\n",
    "    b_idx = indices[movie_title]\n",
    "    \n",
    "    # Extracting content-based similarity\n",
    "    content_sim_scores = list(enumerate(cosine_sim_authTags[b_idx]))\n",
    "    content_sim_scores = sorted(content_sim_scores, key=lambda x: x[1], reverse=True)\n",
    "    \n",
    "    # Extracting collaborative filtering similarity\n",
    "    rating_sim_scores = list(enumerate(rating_sim[b_idx]))\n",
    "    rating_sim_scores = sorted(rating_sim_scores, key=lambda x: x[1], reverse=True)\n",
    "    \n",
    "    # Ensuring N recommendations exist\n",
    "    content_sim_scores = content_sim_scores[1:min(N+1, len(content_sim_scores))]\n",
    "    rating_sim_scores = rating_sim_scores[1:min(N+1, len(rating_sim_scores))]\n",
    "\n",
    "    # Hybrid similarity scores\n",
    "    hybrid_sim_scores = []\n",
    "    for i in range(min(len(content_sim_scores), len(rating_sim_scores))):\n",
    "        combined_score = (alpha * content_sim_scores[i][1]) + ((1 - alpha) * rating_sim_scores[i][1])\n",
    "        hybrid_sim_scores.append((content_sim_scores[i][0], combined_score))\n",
    "    \n",
    "    # Sorting by combined score\n",
    "    hybrid_sim_scores = sorted(hybrid_sim_scores, key=lambda x: x[1], reverse=True)\n",
    "    \n",
    "    # Fetching movie recommendations\n",
    "    movie_indices = [i[0] for i in hybrid_sim_scores]\n",
    "    return movies.iloc[movie_indices][['name', 'score', 'votes', 'genre']]\n",
    "    "
   ]
  },
  {
   "cell_type": "code",
   "execution_count": 35,
   "id": "b5e63c86-aba7-48e9-aa85-413915fcf7e8",
   "metadata": {},
   "outputs": [
    {
     "name": "stdout",
     "output_type": "stream",
     "text": [
      "                        name     score     votes   genre\n",
      "4256     The Matrix Reloaded  0.716216  0.220414  Action\n",
      "4268  The Matrix Revolutions  0.648649  0.191248  Action\n",
      "6686       Jupiter Ascending  0.459459  0.075831  Action\n",
      "5310             Speed Racer  0.554054  0.029164  Action\n",
      "2903          Chain Reaction  0.513514  0.020414  Action\n"
     ]
    }
   ],
   "source": [
    "    # Testing\n",
    "    print(hybrid_recommendation(\"The Matrix\", N=5, alpha=0.7))"
   ]
  },
  {
   "cell_type": "code",
   "execution_count": 29,
   "id": "3cfa7efe-11d7-402b-9c1a-44f0b40f3317",
   "metadata": {},
   "outputs": [
    {
     "name": "stdout",
     "output_type": "stream",
     "text": [
      "Avg Cosine Similarity: 0.7137572594643882\n"
     ]
    }
   ],
   "source": [
    "def avg_cosine_similarity(movie_title, N=5):\n",
    "    idx = indices.get(movie_title)\n",
    "    if idx is None:\n",
    "        return None\n",
    "    \n",
    "    recommended = hybrid_recommendation(movie_title, N)\n",
    "    recommended_indices = recommended.index\n",
    "    similarities = cosine_sim_authTags[idx, recommended_indices]\n",
    "    return similarities.mean()\n",
    "\n",
    "print(\"Avg Cosine Similarity:\", avg_cosine_similarity(\"The Matrix\", N=5))\n"
   ]
  },
  {
   "cell_type": "code",
   "execution_count": 37,
   "id": "45b9e49c-adeb-4c15-bb58-554254960d14",
   "metadata": {},
   "outputs": [
    {
     "name": "stdout",
     "output_type": "stream",
     "text": [
      "score    0.578378\n",
      "votes    0.107414\n",
      "dtype: float64\n"
     ]
    }
   ],
   "source": [
    "def avg_popularity(movie_title, N=10):\n",
    "    recs = hybrid_recommendation(movie_title, N)\n",
    "    return recs[['score', 'votes']].mean()\n",
    "\n",
    "print(avg_popularity(\"The Matrix\", N=5))\n"
   ]
  },
  {
   "cell_type": "code",
   "execution_count": null,
   "id": "b1d60a6e-323b-4fd4-86a1-b3232a1e5eca",
   "metadata": {},
   "outputs": [],
   "source": []
  }
 ],
 "metadata": {
  "kernelspec": {
   "display_name": "Python [conda env:base] *",
   "language": "python",
   "name": "conda-base-py"
  },
  "language_info": {
   "codemirror_mode": {
    "name": "ipython",
    "version": 3
   },
   "file_extension": ".py",
   "mimetype": "text/x-python",
   "name": "python",
   "nbconvert_exporter": "python",
   "pygments_lexer": "ipython3",
   "version": "3.12.7"
  }
 },
 "nbformat": 4,
 "nbformat_minor": 5
}
